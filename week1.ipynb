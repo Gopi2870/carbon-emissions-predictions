{
  "cells": [
    {
      "cell_type": "code",
      "execution_count": 1,
      "id": "8fc7b093-97a1-455c-9bd7-bb49e0dfe250",
      "metadata": {
        "id": "8fc7b093-97a1-455c-9bd7-bb49e0dfe250"
      },
      "outputs": [],
      "source": [
        "import pandas as pd\n",
        "import numpy as np\n",
        "from functools import reduce\n"
      ]
    },
    {
      "cell_type": "code",
      "execution_count": 2,
      "id": "e5f21f14-1516-409d-8a2a-2305d45a00a2",
      "metadata": {
        "id": "e5f21f14-1516-409d-8a2a-2305d45a00a2"
      },
      "outputs": [],
      "source": [
        "data_original = pd.read_csv(\"climate_change_download_0.csv\")"
      ]
    },
    {
      "cell_type": "code",
      "execution_count": 3,
      "id": "dfe51e41-790d-4e11-8202-8d508cf30cf8",
      "metadata": {
        "colab": {
          "base_uri": "https://localhost:8080/"
        },
        "id": "dfe51e41-790d-4e11-8202-8d508cf30cf8",
        "outputId": "0bb0c024-e6ba-4c69-da13-c7e4160967c6"
      },
      "outputs": [
        {
          "output_type": "stream",
          "name": "stdout",
          "text": [
            "Shape of the original data set: (13512, 28)\n",
            "Available columns: Index(['Country code', 'Country name', 'Series code', 'Series name', 'SCALE',\n",
            "       'Decimals', '1990', '1991', '1992', '1993', '1994', '1995', '1996',\n",
            "       '1997', '1998', '1999', '2000', '2001', '2002', '2003', '2004', '2005',\n",
            "       '2006', '2007', '2008', '2009', '2010', '2011'],\n",
            "      dtype='object')\n",
            "Column data types:\n",
            " Country code    object\n",
            "Country name    object\n",
            "Series code     object\n",
            "Series name     object\n",
            "SCALE           object\n",
            "Decimals        object\n",
            "1990            object\n",
            "1991            object\n",
            "1992            object\n",
            "1993            object\n",
            "1994            object\n",
            "1995            object\n",
            "1996            object\n",
            "1997            object\n",
            "1998            object\n",
            "1999            object\n",
            "2000            object\n",
            "2001            object\n",
            "2002            object\n",
            "2003            object\n",
            "2004            object\n",
            "2005            object\n",
            "2006            object\n",
            "2007            object\n",
            "2008            object\n",
            "2009            object\n",
            "2010            object\n",
            "2011            object\n",
            "dtype: object\n",
            "Overview of the first 5 rows:\n",
            "   Country code Country name     Series code  \\\n",
            "0          ABW        Aruba  AG.LND.EL5M.ZS   \n",
            "1          ADO      Andorra  AG.LND.EL5M.ZS   \n",
            "2          AFG  Afghanistan  AG.LND.EL5M.ZS   \n",
            "3          AGO       Angola  AG.LND.EL5M.ZS   \n",
            "4          ALB      Albania  AG.LND.EL5M.ZS   \n",
            "\n",
            "                           Series name SCALE Decimals       1990 1991 1992  \\\n",
            "0  Land area below 5m (% of land area)     0        1   29.57481   ..   ..   \n",
            "1  Land area below 5m (% of land area)     0        1          0   ..   ..   \n",
            "2  Land area below 5m (% of land area)     0        1          0   ..   ..   \n",
            "3  Land area below 5m (% of land area)     0        1  0.2082346   ..   ..   \n",
            "4  Land area below 5m (% of land area)     0        1   4.967875   ..   ..   \n",
            "\n",
            "  1993  ... 2002 2003 2004 2005 2006 2007 2008 2009 2010 2011  \n",
            "0   ..  ...   ..   ..   ..   ..   ..   ..   ..   ..   ..   ..  \n",
            "1   ..  ...   ..   ..   ..   ..   ..   ..   ..   ..   ..   ..  \n",
            "2   ..  ...   ..   ..   ..   ..   ..   ..   ..   ..   ..   ..  \n",
            "3   ..  ...   ..   ..   ..   ..   ..   ..   ..   ..   ..   ..  \n",
            "4   ..  ...   ..   ..   ..   ..   ..   ..   ..   ..   ..   ..  \n",
            "\n",
            "[5 rows x 28 columns]\n",
            "Descriptive statistics:\n",
            "        Country code Country name     Series code  \\\n",
            "count         13512        13512           13512   \n",
            "unique          233          233              58   \n",
            "top             ABW        Aruba  AG.LND.EL5M.ZS   \n",
            "freq             58           58             233   \n",
            "\n",
            "                                Series name  SCALE Decimals   1990   1991  \\\n",
            "count                                 13512  13512    13512  10017  10017   \n",
            "unique                                   58      2        3   4355   3398   \n",
            "top     Land area below 5m (% of land area)      0        1     ..     ..   \n",
            "freq                                    233  10017     5823   5163   6520   \n",
            "\n",
            "         1992   1993  ...   2002   2003   2004   2005   2006   2007   2008  \\\n",
            "count   10017  10017  ...  10017  10017  10017  10017  10017  10017  10017   \n",
            "unique   3523   3583  ...   3877   3869   4007   4484   4008   4047   4080   \n",
            "top        ..     ..  ...     ..     ..     ..     ..     ..     ..     ..   \n",
            "freq     6364   6300  ...   5960   5974   5792   4933   5781   5769   5414   \n",
            "\n",
            "         2009   2010   2011  \n",
            "count   10017  10017  12382  \n",
            "unique   3506   2164   1398  \n",
            "top        ..     ..     ..  \n",
            "freq     6256   7685  10244  \n",
            "\n",
            "[4 rows x 28 columns]\n"
          ]
        }
      ],
      "source": [
        "print(\"Shape of the original data set:\", data_original.shape)\n",
        "print(\"Available columns:\", data_original.columns)\n",
        "print(\"Column data types:\\n\", data_original.dtypes)\n",
        "print(\"Overview of the first 5 rows:\\n\", data_original.head())\n",
        "print(\"Descriptive statistics:\\n\", data_original.describe())\n"
      ]
    },
    {
      "cell_type": "code",
      "execution_count": 4,
      "id": "9f974184-98f9-4ac2-8c72-2e7b4b8b55aa",
      "metadata": {
        "colab": {
          "base_uri": "https://localhost:8080/"
        },
        "id": "9f974184-98f9-4ac2-8c72-2e7b4b8b55aa",
        "outputId": "6d5e710b-428c-446c-b3d2-84948fbfda12"
      },
      "outputs": [
        {
          "output_type": "stream",
          "name": "stdout",
          "text": [
            "Series name:\n",
            " ['Land area below 5m (% of land area)'\n",
            " 'Agricultural land under irrigation (% of total ag. land)'\n",
            " 'Cereal yield (kg per hectare)'\n",
            " 'Foreign direct investment, net inflows (% of GDP)'\n",
            " 'Access to electricity (% of total population)'\n",
            " 'Energy use per units of GDP (kg oil eq./$1,000 of 2005 PPP $)'\n",
            " 'Energy use per capita (kilograms of oil equivalent)'\n",
            " 'CO2 emissions, total (KtCO2)' 'CO2 emissions per capita (metric tons)'\n",
            " 'CO2 emissions per units of GDP (kg/$1,000 of 2005 PPP $)'\n",
            " 'Other GHG emissions, total (KtCO2e)'\n",
            " 'Methane (CH4) emissions, total (KtCO2e)'\n",
            " 'Nitrous oxide (N2O) emissions, total (KtCO2e)'\n",
            " 'Annex-I emissions reduction target'\n",
            " 'Disaster risk reduction progress score (1-5 scale; 5=best)'\n",
            " 'GHG net emissions/removals by LUCF (MtCO2e)'\n",
            " 'Hosted Clean Development Mechanism (CDM) projects'\n",
            " 'Hosted Joint Implementation (JI) projects'\n",
            " 'Average annual precipitation (1961-1990, mm)'\n",
            " 'Issued Certified Emission Reductions (CERs) from CDM (thousands)'\n",
            " 'Issued Emission Reduction Units (ERUs) from JI (thousands)'\n",
            " 'Droughts, floods, extreme temps (% pop. avg. 1990-2009)'\n",
            " 'Average daily min/max temperature (1961-1990, Celsius)'\n",
            " 'NAMA submission' 'NAPA submission'\n",
            " 'Latest UNFCCC national communication'\n",
            " 'Projected annual temperature change (2045-2065, Celsius)'\n",
            " 'Projected change in annual cool days/cold nights'\n",
            " 'Projected change in annual hot days/warm nights'\n",
            " 'Projected annual precipitation change (2045-2065, mm)'\n",
            " 'Renewable energy target' 'Population below 5m (% of total)'\n",
            " 'Population in urban agglomerations >1million (%)'\n",
            " 'Annual freshwater withdrawals (% of internal resources)'\n",
            " 'Nationally terrestrial protected areas (% of total land area)'\n",
            " 'Ease of doing business (ranking 1-183; 1=best)'\n",
            " 'Invest. in energy w/ private participation ($)'\n",
            " 'Invest. in telecoms w/ private participation ($)'\n",
            " 'Invest. in transport w/ private participation ($)'\n",
            " 'Invest. in water/sanit. w/ private participation ($)'\n",
            " 'Public sector mgmt & institutions avg. (1-6 scale; 6=best)'\n",
            " 'Paved roads (% of total roads)' 'GDP ($)' 'GNI per capita (Atlas $)'\n",
            " 'Ratio of girls to boys in primary & secondary school (%)'\n",
            " 'Primary completion rate, total (% of relevant age group)'\n",
            " 'Under-five mortality rate (per 1,000)'\n",
            " 'Access to improved water source (% of total pop.)'\n",
            " 'Nurses and midwives (per 1,000 people)' 'Physicians (per 1,000 people)'\n",
            " 'Malaria incidence rate (per 100,000 people)'\n",
            " 'Access to improved sanitation (% of total pop.)'\n",
            " 'Child malnutrition, underweight (% of under age 5)'\n",
            " 'Population living below $1.25 a day (% of total)'\n",
            " 'Population growth (annual %)' 'Population'\n",
            " 'Urban population growth (annual %)' 'Urban population']\n",
            "Series code:\n",
            " ['AG.LND.EL5M.ZS' 'AG.LND.IRIG.AG.ZS' 'AG.YLD.CREL.KG'\n",
            " 'BX.KLT.DINV.WD.GD.ZS' 'EG.ELC.ACCS.ZS' 'EG.USE.COMM.GD.PP.KD'\n",
            " 'EG.USE.PCAP.KG.OE' 'EN.ATM.CO2E.KT' 'EN.ATM.CO2E.PC'\n",
            " 'EN.ATM.CO2E.PP.GD.KD' 'EN.ATM.GHGO.KT.CE' 'EN.ATM.METH.KT.CE'\n",
            " 'EN.ATM.NOXE.KT.CE' 'EN.CLC.AERT' 'EN.CLC.DRSK.XQ' 'EN.CLC.GHGR.MT.CE'\n",
            " 'EN.CLC.HCDM' 'EN.CLC.HJIP' 'EN.CLC.HPPT.MM' 'EN.CLC.ICER' 'EN.CLC.IERU'\n",
            " 'EN.CLC.MDAT.ZS' 'EN.CLC.MMDT.C' 'EN.CLC.NAMA' 'EN.CLC.NAPA'\n",
            " 'EN.CLC.NCOM' 'EN.CLC.PCAT.C' 'EN.CLC.PCCC' 'EN.CLC.PCHW'\n",
            " 'EN.CLC.PCPT.MM' 'EN.CLC.RNET' 'EN.POP.EL5M.ZS' 'EN.URB.MCTY.TL.ZS'\n",
            " 'ER.H2O.FWTL.ZS' 'ER.LND.PTLD.ZS' 'IC.BUS.EASE.XQ' 'IE.PPI.ENGY.CD'\n",
            " 'IE.PPI.TELE.CD' 'IE.PPI.TRAN.CD' 'IE.PPI.WATR.CD' 'IQ.CPA.PUBS.XQ'\n",
            " 'IS.ROD.PAVE.ZS' 'NY.GDP.MKTP.CD' 'NY.GNP.PCAP.CD' 'SE.ENR.PRSC.FM.ZS'\n",
            " 'SE.PRM.CMPT.ZS' 'SH.DYN.MORT' 'SH.H2O.SAFE.ZS' 'SH.MED.NUMW.P3'\n",
            " 'SH.MED.PHYS.ZS' 'SH.MLR.INCD' 'SH.STA.ACSN' 'SH.STA.MALN.ZS'\n",
            " 'SI.POV.DDAY' 'SP.POP.GROW' 'SP.POP.TOTL' 'SP.URB.GROW' 'SP.URB.TOTL']\n",
            "SCALE:\n",
            " ['0' 'Text']\n",
            "Decimals:\n",
            " ['1' '0' 'Text']\n"
          ]
        }
      ],
      "source": [
        "print(\"Series name:\\n\", data_original['Series name'].unique())\n",
        "print(\"Series code:\\n\", data_original['Series code'].unique())\n",
        "print(\"SCALE:\\n\", data_original['SCALE'].unique())\n",
        "print(\"Decimals:\\n\", data_original['Decimals'].unique())"
      ]
    },
    {
      "cell_type": "code",
      "execution_count": 5,
      "id": "1a1b710e-a1ef-4f85-8a1e-fc3f4357288f",
      "metadata": {
        "colab": {
          "base_uri": "https://localhost:8080/"
        },
        "id": "1a1b710e-a1ef-4f85-8a1e-fc3f4357288f",
        "outputId": "38de352d-6a5d-428e-b47b-967a04d29420"
      },
      "outputs": [
        {
          "output_type": "stream",
          "name": "stdout",
          "text": [
            "Original number of rows: 13512\n",
            "Current number of rows after cleaning: 10017\n"
          ]
        }
      ],
      "source": [
        "data_clean = data_original.copy()\n",
        "print(\"Original number of rows:\", data_clean.shape[0])\n",
        "\n",
        "data_clean = data_clean[(data_clean['SCALE'] != 'Text') & (data_clean['Decimals'] != 'Text')]\n",
        "print(\"Current number of rows after cleaning:\", data_clean.shape[0])\n"
      ]
    },
    {
      "cell_type": "code",
      "execution_count": 6,
      "id": "1c3c3087-02b4-46c5-b43d-2669092d9d10",
      "metadata": {
        "colab": {
          "base_uri": "https://localhost:8080/"
        },
        "id": "1c3c3087-02b4-46c5-b43d-2669092d9d10",
        "outputId": "1b5a3618-805d-494c-ba25-82deb105017a"
      },
      "outputs": [
        {
          "output_type": "stream",
          "name": "stdout",
          "text": [
            "Remaining columns: 24\n"
          ]
        }
      ],
      "source": [
        "data_clean = data_clean.drop(['Country name', 'Series code', 'SCALE', 'Decimals'], axis=1)\n",
        "print(\"Remaining columns:\", data_clean.shape[1])\n",
        "data_clean.iloc[:, 2:] = data_clean.iloc[:, 2:].replace({'': np.nan, '..': np.nan})\n",
        "data_clean2 = data_clean.copy()\n",
        "data_clean2.iloc[:, 2:] = data_clean2.iloc[:, 2:].apply(pd.to_numeric, errors='coerce')\n"
      ]
    },
    {
      "cell_type": "code",
      "execution_count": 7,
      "id": "9c9cfebb-e3cd-423b-b36b-bef927e717c8",
      "metadata": {
        "id": "9c9cfebb-e3cd-423b-b36b-bef927e717c8"
      },
      "outputs": [],
      "source": [
        "chosen_vars = {\n",
        "    'Cereal yield (kg per hectare)': 'cereal_yield',\n",
        "    'Foreign direct investment, net inflows (% of GDP)': 'fdi_perc_gdp',\n",
        "    'Access to electricity (% of total population)': 'elec_access_perc',\n",
        "    'Energy use per units of GDP (kg oil eq./$1,000 of 2005 PPP $)': 'en_per_gdp',\n",
        "    'Energy use per capita (kilograms of oil equivalent)': 'en_per_cap',\n",
        "    'CO2 emissions, total (KtCO2)': 'co2_ttl',\n",
        "    'CO2 emissions per capita (metric tons)': 'co2_per_cap',\n",
        "    'CO2 emissions per units of GDP (kg/$1,000 of 2005 PPP $)': 'co2_per_gdp',\n",
        "    'Other GHG emissions, total (KtCO2e)': 'other_ghg_ttl',\n",
        "    'Methane (CH4) emissions, total (KtCO2e)': 'ch4_ttl',\n",
        "    'Nitrous oxide (N2O) emissions, total (KtCO2e)': 'n2o_ttl',\n",
        "    'Droughts, floods, extreme temps (% pop. avg. 1990-2009)': 'nat_emerg',\n",
        "    'Population in urban agglomerations >1million (%)': 'pop_urb_aggl_perc',\n",
        "    'Nationally terrestrial protected areas (% of total land area)': 'prot_area_perc',\n",
        "    'GDP ($)': 'gdp',\n",
        "    'GNI per capita (Atlas $)': 'gni_per_cap',\n",
        "    'Under-five mortality rate (per 1,000)': 'under_5_mort_rate',\n",
        "    'Population growth (annual %)': 'pop_growth_perc',\n",
        "    'Population': 'pop',\n",
        "    'Urban population growth (annual %)': 'urb_pop_growth_perc',\n",
        "    'Urban population': 'urb_pop'\n",
        "}\n",
        "\n",
        "data_clean2['Series name'] = data_clean2['Series name'].replace(to_replace=chosen_vars)\n",
        "\n",
        "chosen_cols = list(chosen_vars.values())\n",
        "frame_list = []"
      ]
    },
    {
      "cell_type": "code",
      "execution_count": 8,
      "id": "2b35fa28-843f-4102-8b0b-49160396f30d",
      "metadata": {
        "id": "2b35fa28-843f-4102-8b0b-49160396f30d"
      },
      "outputs": [],
      "source": [
        "for variable in chosen_cols:\n",
        "    frame = data_clean2[data_clean2['Series name'] == variable]\n",
        "    frame = frame.melt(id_vars=['Country code', 'Series name'], var_name='year', value_name=variable)\n",
        "    frame = frame.rename(columns={'Country code': 'country'}).drop(columns=['Series name'])\n",
        "    frame_list.append(frame)\n",
        "\n",
        "all_vars = reduce(lambda left, right: pd.merge(left, right, on=['country', 'year'], how='outer'), frame_list)"
      ]
    },
    {
      "cell_type": "code",
      "execution_count": 9,
      "id": "bdecad84-d584-49a3-ba66-6dccb461449a",
      "metadata": {
        "colab": {
          "base_uri": "https://localhost:8080/"
        },
        "id": "bdecad84-d584-49a3-ba66-6dccb461449a",
        "outputId": "2a3e09ce-ee1e-4699-bd7f-1b8c756b53f9"
      },
      "outputs": [
        {
          "output_type": "stream",
          "name": "stdout",
          "text": [
            "Missing values per year:\n",
            "year\n",
            "2005    1189\n",
            "2000    1273\n",
            "1995    1317\n",
            "1990    1427\n",
            "2007    1631\n",
            "2006    1633\n",
            "2004    1646\n",
            "2008    1708\n",
            "2003    1714\n",
            "2002    1715\n",
            "2001    1718\n",
            "1999    1729\n",
            "1998    1739\n",
            "1997    1746\n",
            "1996    1756\n",
            "1994    1781\n",
            "1993    1792\n",
            "1992    1810\n",
            "1991    1921\n",
            "2009    2078\n",
            "2010    3038\n",
            "2011    4893\n",
            "dtype: int64\n"
          ]
        },
        {
          "output_type": "stream",
          "name": "stderr",
          "text": [
            "/tmp/ipython-input-9-4147011951.py:2: DeprecationWarning: DataFrameGroupBy.apply operated on the grouping columns. This behavior is deprecated, and in a future version of pandas the grouping columns will be excluded from the operation. Either pass `include_groups=False` to exclude the groupings or explicitly select the grouping columns after groupby to silence this warning.\n",
            "  years_count_missing = all_vars.groupby(\"year\").apply(lambda x: x.isnull().sum().sum()).sort_values()\n"
          ]
        }
      ],
      "source": [
        "print(\"Missing values per year:\")\n",
        "years_count_missing = all_vars.groupby(\"year\").apply(lambda x: x.isnull().sum().sum()).sort_values()\n",
        "print(years_count_missing)\n"
      ]
    },
    {
      "cell_type": "code",
      "execution_count": 10,
      "id": "f9f3d818-98c5-414a-8bf9-1daee1e19a90",
      "metadata": {
        "colab": {
          "base_uri": "https://localhost:8080/"
        },
        "id": "f9f3d818-98c5-414a-8bf9-1daee1e19a90",
        "outputId": "e7b7a879-da8a-48a5-b7fc-7f3aba5bcedb"
      },
      "outputs": [
        {
          "output_type": "stream",
          "name": "stderr",
          "text": [
            "/tmp/ipython-input-10-28648956.py:3: DeprecationWarning: DataFrameGroupBy.apply operated on the grouping columns. This behavior is deprecated, and in a future version of pandas the grouping columns will be excluded from the operation. Either pass `include_groups=False` to exclude the groupings or explicitly select the grouping columns after groupby to silence this warning.\n",
            "  country_missing = all_vars_clean.groupby('country').apply(lambda x: x.isnull().sum().sum())\n"
          ]
        }
      ],
      "source": [
        "all_vars_clean = all_vars[(all_vars['year'] >= '1991') & (all_vars['year'] <= '2000')]\n",
        "\n",
        "country_missing = all_vars_clean.groupby('country').apply(lambda x: x.isnull().sum().sum())\n",
        "countries_filter = country_missing[country_missing < 90].index.tolist()\n",
        "\n",
        "all_vars_clean = all_vars_clean[all_vars_clean['country'].isin(countries_filter)]\n"
      ]
    },
    {
      "cell_type": "code",
      "execution_count": 12,
      "id": "a42490bf-15c7-48f7-8fca-bb009359bb09",
      "metadata": {
        "colab": {
          "base_uri": "https://localhost:8080/",
          "height": 34
        },
        "id": "a42490bf-15c7-48f7-8fca-bb009359bb09",
        "outputId": "3ce0709c-af09-4f7e-8710-f10b05fd1c78"
      },
      "outputs": [
        {
          "output_type": "stream",
          "name": "stdout",
          "text": [
            "Final shape of the cleaned dataset: (1772, 9)\n"
          ]
        },
        {
          "output_type": "display_data",
          "data": {
            "text/plain": [
              "<IPython.core.display.Javascript object>"
            ],
            "application/javascript": [
              "\n",
              "    async function download(id, filename, size) {\n",
              "      if (!google.colab.kernel.accessAllowed) {\n",
              "        return;\n",
              "      }\n",
              "      const div = document.createElement('div');\n",
              "      const label = document.createElement('label');\n",
              "      label.textContent = `Downloading \"${filename}\": `;\n",
              "      div.appendChild(label);\n",
              "      const progress = document.createElement('progress');\n",
              "      progress.max = size;\n",
              "      div.appendChild(progress);\n",
              "      document.body.appendChild(div);\n",
              "\n",
              "      const buffers = [];\n",
              "      let downloaded = 0;\n",
              "\n",
              "      const channel = await google.colab.kernel.comms.open(id);\n",
              "      // Send a message to notify the kernel that we're ready.\n",
              "      channel.send({})\n",
              "\n",
              "      for await (const message of channel.messages) {\n",
              "        // Send a message to notify the kernel that we're ready.\n",
              "        channel.send({})\n",
              "        if (message.buffers) {\n",
              "          for (const buffer of message.buffers) {\n",
              "            buffers.push(buffer);\n",
              "            downloaded += buffer.byteLength;\n",
              "            progress.value = downloaded;\n",
              "          }\n",
              "        }\n",
              "      }\n",
              "      const blob = new Blob(buffers, {type: 'application/binary'});\n",
              "      const a = document.createElement('a');\n",
              "      a.href = window.URL.createObjectURL(blob);\n",
              "      a.download = filename;\n",
              "      div.appendChild(a);\n",
              "      a.click();\n",
              "      div.remove();\n",
              "    }\n",
              "  "
            ]
          },
          "metadata": {}
        },
        {
          "output_type": "display_data",
          "data": {
            "text/plain": [
              "<IPython.core.display.Javascript object>"
            ],
            "application/javascript": [
              "download(\"download_7f62d813-21d5-4a32-a006-04b9d6f7029c\", \"data_cleaned.csv\", 183751)"
            ]
          },
          "metadata": {}
        }
      ],
      "source": [
        "from google.colab import files\n",
        "\n",
        "cols_to_drop = all_vars_clean.columns[all_vars_clean.isnull().sum() > 20]\n",
        "all_vars_clean2 = all_vars_clean.drop(columns=cols_to_drop)\n",
        "\n",
        "\n",
        "all_vars_clean3 = all_vars_clean2.dropna()\n",
        "\n",
        "print(\"Final shape of the cleaned dataset:\", all_vars_clean3.shape)\n",
        "all_vars_clean3.to_csv('data_cleaned.csv', index=False)\n",
        "files.download('data_cleaned.csv')"
      ]
    }
  ],
  "metadata": {
    "kernelspec": {
      "display_name": "Python 3 (ipykernel)",
      "language": "python",
      "name": "python3"
    },
    "language_info": {
      "codemirror_mode": {
        "name": "ipython",
        "version": 3
      },
      "file_extension": ".py",
      "mimetype": "text/x-python",
      "name": "python",
      "nbconvert_exporter": "python",
      "pygments_lexer": "ipython3",
      "version": "3.12.7"
    },
    "colab": {
      "provenance": []
    }
  },
  "nbformat": 4,
  "nbformat_minor": 5
}